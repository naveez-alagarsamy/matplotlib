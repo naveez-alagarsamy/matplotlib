{
  "nbformat": 4,
  "nbformat_minor": 0,
  "metadata": {
    "colab": {
      "name": "mean_square_error.ipynb",
      "provenance": [],
      "collapsed_sections": [],
      "authorship_tag": "ABX9TyO5FfB+yMnUB2nanEHLDD+i",
      "include_colab_link": true
    },
    "kernelspec": {
      "name": "python3",
      "display_name": "Python 3"
    },
    "language_info": {
      "name": "python"
    }
  },
  "cells": [
    {
      "cell_type": "markdown",
      "metadata": {
        "id": "view-in-github",
        "colab_type": "text"
      },
      "source": [
        "<a href=\"https://colab.research.google.com/github/naveez-alagarsamy/matplotlib/blob/main/mean_square_error.ipynb\" target=\"_parent\"><img src=\"https://colab.research.google.com/assets/colab-badge.svg\" alt=\"Open In Colab\"/></a>"
      ]
    },
    {
      "cell_type": "code",
      "execution_count": 76,
      "metadata": {
        "colab": {
          "base_uri": "https://localhost:8080/"
        },
        "id": "V5IqKoI59Wr3",
        "outputId": "a9202cdc-420b-410a-8580-4f2bc3dea187"
      },
      "outputs": [
        {
          "output_type": "stream",
          "name": "stdout",
          "text": [
            "[1. 2.]\n",
            "0.5\n",
            "0.5\n"
          ]
        }
      ],
      "source": [
        "import numpy as np\n",
        "import tensorflow as tf\n",
        "\n",
        "y_true = np.float32([1,2] )\n",
        "y_pred = np.float32([2,2] )\n",
        "\n",
        "print(y_true)\n",
        "#loss = square(y_true - y_pred)\n",
        "loss = np.mean(np.square(y_true - y_pred) )\n",
        "\n",
        "#tensorflow\n",
        "mse = tf.keras.losses.MeanSquaredError()\n",
        "mse_loss_tf = mse(y_true, y_pred).numpy()\n",
        "\n",
        "\n",
        "print(loss)\n",
        "print(mse_loss_tf)\n"
      ]
    }
  ]
}