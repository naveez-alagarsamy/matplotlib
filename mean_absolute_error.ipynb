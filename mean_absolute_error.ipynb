{
  "nbformat": 4,
  "nbformat_minor": 0,
  "metadata": {
    "colab": {
      "name": "mean_absolute_error.ipynb",
      "provenance": [],
      "collapsed_sections": [],
      "authorship_tag": "ABX9TyN8M5ROczs6GgCx9kQzPCPB",
      "include_colab_link": true
    },
    "kernelspec": {
      "name": "python3",
      "display_name": "Python 3"
    },
    "language_info": {
      "name": "python"
    }
  },
  "cells": [
    {
      "cell_type": "markdown",
      "metadata": {
        "id": "view-in-github",
        "colab_type": "text"
      },
      "source": [
        "<a href=\"https://colab.research.google.com/github/naveez-alagarsamy/matplotlib/blob/main/mean_absolute_error.ipynb\" target=\"_parent\"><img src=\"https://colab.research.google.com/assets/colab-badge.svg\" alt=\"Open In Colab\"/></a>"
      ]
    },
    {
      "cell_type": "code",
      "execution_count": null,
      "metadata": {
        "colab": {
          "base_uri": "https://localhost:8080/"
        },
        "id": "lIQ8xpiRPddj",
        "outputId": "8fb4c237-da67-4d36-f195-09db660a9b33"
      },
      "outputs": [
        {
          "output_type": "stream",
          "name": "stdout",
          "text": [
            "0.5\n",
            "0.5\n"
          ]
        }
      ],
      "source": [
        "import numpy as np\n",
        "import tensorflow as tf\n",
        "\n",
        "y_true = np.float32([1,2] )\n",
        "y_pred = np.float32([2,2] )\n",
        "\n",
        "\n",
        "#loss = mean(abs(y_true - y_pred))\n",
        "#np.abs will return the absolute values , nps.abs[-1] will return 1\n",
        "loss_mae = tf.keras.losses.mean_absolute_error(y_true, y_pred)\n",
        "print(loss_mae.numpy())\n",
        "\n",
        "print(np.mean(np.abs(y_true - y_pred)))"
      ]
    }
  ]
}