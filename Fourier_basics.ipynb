{
  "nbformat": 4,
  "nbformat_minor": 0,
  "metadata": {
    "colab": {
      "name": "Fourier-basics.ipynb",
      "provenance": [],
      "collapsed_sections": [],
      "toc_visible": true,
      "authorship_tag": "ABX9TyPL7ZI+qif/hPEJue0yncof",
      "include_colab_link": true
    },
    "kernelspec": {
      "name": "python3",
      "display_name": "Python 3"
    },
    "language_info": {
      "name": "python"
    }
  },
  "cells": [
    {
      "cell_type": "markdown",
      "metadata": {
        "id": "view-in-github",
        "colab_type": "text"
      },
      "source": [
        "<a href=\"https://colab.research.google.com/github/naveez-alagarsamy/matplotlib/blob/main/Fourier_basics.ipynb\" target=\"_parent\"><img src=\"https://colab.research.google.com/assets/colab-badge.svg\" alt=\"Open In Colab\"/></a>"
      ]
    },
    {
      "cell_type": "code",
      "execution_count": 79,
      "metadata": {
        "colab": {
          "base_uri": "https://localhost:8080/",
          "height": 456
        },
        "id": "VkwSf0uXcwEB",
        "outputId": "d92a367c-8e39-42ca-8299-75c7bf249fdc"
      },
      "outputs": [
        {
          "output_type": "stream",
          "name": "stdout",
          "text": [
            "(0.7071067811865476+0.7071067811865475j)\n",
            "0\n",
            "4\n",
            "0\n",
            "0\n",
            "0\n",
            "0\n",
            "0\n",
            "4\n",
            "[0. 4. 0. 0. 0. 0. 0. 4.]\n",
            "[0.0, 1.0, 2.0, 3.0]\n"
          ]
        },
        {
          "output_type": "display_data",
          "data": {
            "text/plain": [
              "<Figure size 432x288 with 1 Axes>"
            ],
            "image/png": "[encoded data removed]"
          },
          "metadata": {
            "needs_background": "light"
          }
        }
      ],
      "source": [
        "import math\n",
        "import numpy as np\n",
        "import matplotlib.pyplot as plt\n",
        "\n",
        "print(math.e**(np.pi/4*1j))\n",
        "\n",
        "#loop through the samples -use size\n",
        "# euler's formula   ---- e^i*x  = cosx +isinx\n",
        "\n",
        "#fft - theta= 2pikn/N\n",
        "\n",
        "# k - 0---N-1\n",
        "#n- loop for all samples\n",
        "#N - total no of samples\n",
        "\n",
        "#fft [k] = summation (0---N-1)[x[k]*e^(-i*theta)]\n",
        "# fft [k] = summation (0---N-1)[x[k]* (cos(theta) -i*sin(theta))\n",
        "\n",
        "x = [0, 0.707, 1, 0.707, 0, -0.707, -1, -0.707]\n",
        "N = len(x)\n",
        "\n",
        "def calculate_theta(k, n , N):\n",
        "  theta = (2*np.pi*k*n)/N\n",
        "  return theta\n",
        "\n",
        "def calculate_eulerfor_theta(theta): \n",
        "  #print(math.e**(theta * -1j))\n",
        "  euler = math.e**(theta * -1j)\n",
        "  return euler\n",
        "\n",
        "x_n_fft = []\n",
        "\n",
        "for i in range(N):\n",
        "  #print(i)\n",
        "    \n",
        "  x_n=0\n",
        "  for j in range(N):\n",
        "    thetas = calculate_theta(i, j, N)\n",
        "    eulers = calculate_eulerfor_theta(thetas)\n",
        "    x_n += x[j]* eulers\n",
        "  print(round(abs(x_n)))\n",
        "  x_n_fft = np.append(x_n_fft, round(abs(x_n)))\n",
        "print(x_n_fft)\n",
        "\n",
        "\n",
        "#plot the frequency domain graph \n",
        "#x - axis  -  freq\n",
        "#y - axis  - amplitude \n",
        "\n",
        "#Amplitude is the magnitude from FFT --x_n_fft values\n",
        "#angular frquency = [2pi*n/sample_interval * N ]\n",
        "#sample_interval = [2pi/N]\n",
        "\n",
        "sample_interval = (2*np.pi)/N\n",
        "angular_frequencys = []\n",
        "for angular_frequency_fft in range(4):\n",
        "  angular_frequency = (2*np.pi*angular_frequency_fft/(sample_interval*N))\n",
        "  angular_frequencys.append(angular_frequency)\n",
        "\n",
        "print(angular_frequencys)\n",
        "\n",
        "plt.plot(angular_frequencys, x_n_fft[0:4])\n",
        "plt.show()\n",
        "\n",
        "# u might wonder why i used 4 in range rather than N \n",
        "#the values start repeating after N/2 \n",
        "# u can use N and verify"
      ]
    },
    {
      "cell_type": "markdown",
      "source": [
        "# New Section"
      ],
      "metadata": {
        "id": "mLSeE5cHhCi9"
      }
    }
  ]
}